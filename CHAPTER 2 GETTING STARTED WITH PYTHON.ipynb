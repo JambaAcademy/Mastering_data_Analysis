{
 "cells": [
  {
   "cell_type": "markdown",
   "id": "5560987b",
   "metadata": {},
   "source": [
    "### 2.3 MAGIC COMMANDS IN JUPYTER\n",
    "\n",
    "Magic commands are special commands that are not part of the Python language and are used to perform special actions in Jupyter Notebook. These commands are prefixed with \"%\" or \"%%\" and are used to perform various tasks, such as running code in a different language, displaying the execution time of a cell, and controlling the behavior of Jupyter Notebook.\n",
    "### %magic commands\n",
    "\n",
    "When working with Jupyter notebooks, there are many useful features and functionalities that can streamline your workflow and make your life easier. One of the most powerful tools at your disposal is the %magic command, a set of built-in commands that allow you to perform a wide range of tasks directly from your Jupyter notebook.\n",
    "\n",
    "At its core, the %magic command is a way to interact with the Python interpreter and the Jupyter notebook environment. By using these commands, you can quickly and easily perform a variety of tasks, such as changing the behavior of the notebook, importing data, executing shell commands, and more.\n",
    "\n",
    "Here are some examples of %magic commands that you might find useful in your data analysis work:\n",
    "\n",
    "### •\t%matplotlib inline: \n",
    "This command enables inline plotting of figures in your Jupyter notebook, allowing you to create and view visualizations directly in your code cells. For example, to create a scatter plot of two variables named 'x' and 'y', you can use the following code:\n"
   ]
  },
  {
   "cell_type": "code",
   "execution_count": 1,
   "id": "95dfa32b",
   "metadata": {},
   "outputs": [
    {
     "data": {
      "image/png": "[encoded data removed]",
      "text/plain": [
       "<Figure size 432x288 with 1 Axes>"
      ]
     },
     "metadata": {
      "needs_background": "light"
     },
     "output_type": "display_data"
    }
   ],
   "source": [
    "%matplotlib inline\n",
    "import matplotlib.pyplot as plt\n",
    "\n",
    "x = [1, 2, 3, 4, 5]\n",
    "y = [2, 4, 6, 8, 10]\n",
    "\n",
    "plt.scatter(x, y)\n",
    "plt.show()\n"
   ]
  },
  {
   "cell_type": "markdown",
   "id": "3b6ddea9",
   "metadata": {},
   "source": [
    "### %load:\n",
    "\n",
    "This magic command allows you to load code from a file into a code cell. For example, to load code from a file named 'my_code.py', you can use the following code:"
   ]
  },
  {
   "cell_type": "code",
   "execution_count": null,
   "id": "5b95df90",
   "metadata": {},
   "outputs": [],
   "source": [
    "%load my_code.py"
   ]
  },
  {
   "cell_type": "markdown",
   "id": "c42d71a1",
   "metadata": {},
   "source": [
    "### %run filename: \n",
    "This command runs the specified Python script in a separate process, allowing you to execute complex or long-running code without tying up your Jupyter notebook. For example, to run a script named 'my_script.py', you can use the following code:"
   ]
  },
  {
   "cell_type": "code",
   "execution_count": null,
   "id": "0041e45e",
   "metadata": {},
   "outputs": [],
   "source": [
    "%run my_script.py"
   ]
  },
  {
   "cell_type": "markdown",
   "id": "acc38379",
   "metadata": {},
   "source": [
    "### %timeit statement: \n",
    "This command measures the execution time of a Python statement or expression, allowing you to optimize your code and improve performance. For example, to time the execution of a for loop that appends elements to a list, you can use the following code:"
   ]
  },
  {
   "cell_type": "code",
   "execution_count": 3,
   "id": "676da57a",
   "metadata": {},
   "outputs": [],
   "source": [
    "%timeit\n",
    "my_list = []\n",
    "for i in range(1000):\n",
    "    my_list.append(i)\n"
   ]
  },
  {
   "cell_type": "markdown",
   "id": "46d5da94",
   "metadata": {},
   "source": [
    "### %who and %whos: \n",
    "These commands display information about the variables in your current namespace, helping you keep track of your data and ensure that your code is running correctly."
   ]
  },
  {
   "cell_type": "code",
   "execution_count": 5,
   "id": "6b7819c8",
   "metadata": {
    "scrolled": true
   },
   "outputs": [
    {
     "name": "stdout",
     "output_type": "stream",
     "text": [
      "Variable   Type      Data/Info\n",
      "------------------------------\n",
      "i          int       999\n",
      "my_list    list      n=1000\n",
      "plt        module    <module 'matplotlib.pyplo<...>\\\\matplotlib\\\\pyplot.py'>\n",
      "x          list      n=5\n",
      "y          list      n=5\n"
     ]
    }
   ],
   "source": [
    "%whos"
   ]
  },
  {
   "cell_type": "markdown",
   "id": "5195230c",
   "metadata": {},
   "source": [
    "### %reset:\n",
    "This magic command allows you to reset the namespace by removing all names defined by the user. For example, to reset the namespace, you can use the following code:"
   ]
  },
  {
   "cell_type": "code",
   "execution_count": 6,
   "id": "51e91853",
   "metadata": {},
   "outputs": [
    {
     "name": "stdout",
     "output_type": "stream",
     "text": [
      "Once deleted, variables cannot be recovered. Proceed (y/[n])? y\n"
     ]
    }
   ],
   "source": [
    "%reset\n"
   ]
  },
  {
   "cell_type": "markdown",
   "id": "bfa9c4a2",
   "metadata": {},
   "source": [
    "These are just a few examples of the many %magic commands available in Jupyter notebooks. To see a full list of available commands, simply type %lsmagic in a code cell and run the cell."
   ]
  },
  {
   "cell_type": "code",
   "execution_count": 7,
   "id": "775ce4df",
   "metadata": {},
   "outputs": [
    {
     "data": {
      "application/json": {
       "cell": {
        "!": "OSMagics",
        "HTML": "Other",
        "SVG": "Other",
        "bash": "Other",
        "capture": "ExecutionMagics",
        "cmd": "Other",
        "debug": "ExecutionMagics",
        "file": "Other",
        "html": "DisplayMagics",
        "javascript": "DisplayMagics",
        "js": "DisplayMagics",
        "latex": "DisplayMagics",
        "markdown": "DisplayMagics",
        "perl": "Other",
        "prun": "ExecutionMagics",
        "pypy": "Other",
        "python": "Other",
        "python2": "Other",
        "python3": "Other",
        "ruby": "Other",
        "script": "ScriptMagics",
        "sh": "Other",
        "svg": "DisplayMagics",
        "sx": "OSMagics",
        "system": "OSMagics",
        "time": "ExecutionMagics",
        "timeit": "ExecutionMagics",
        "writefile": "OSMagics"
       },
       "line": {
        "alias": "OSMagics",
        "alias_magic": "BasicMagics",
        "autoawait": "AsyncMagics",
        "autocall": "AutoMagics",
        "automagic": "AutoMagics",
        "autosave": "KernelMagics",
        "bookmark": "OSMagics",
        "cd": "OSMagics",
        "clear": "KernelMagics",
        "cls": "KernelMagics",
        "colors": "BasicMagics",
        "conda": "PackagingMagics",
        "config": "ConfigMagics",
        "connect_info": "KernelMagics",
        "copy": "Other",
        "ddir": "Other",
        "debug": "ExecutionMagics",
        "dhist": "OSMagics",
        "dirs": "OSMagics",
        "doctest_mode": "BasicMagics",
        "echo": "Other",
        "ed": "Other",
        "edit": "KernelMagics",
        "env": "OSMagics",
        "gui": "BasicMagics",
        "hist": "Other",
        "history": "HistoryMagics",
        "killbgscripts": "ScriptMagics",
        "ldir": "Other",
        "less": "KernelMagics",
        "load": "CodeMagics",
        "load_ext": "ExtensionMagics",
        "loadpy": "CodeMagics",
        "logoff": "LoggingMagics",
        "logon": "LoggingMagics",
        "logstart": "LoggingMagics",
        "logstate": "LoggingMagics",
        "logstop": "LoggingMagics",
        "ls": "Other",
        "lsmagic": "BasicMagics",
        "macro": "ExecutionMagics",
        "magic": "BasicMagics",
        "matplotlib": "PylabMagics",
        "mkdir": "Other",
        "more": "KernelMagics",
        "notebook": "BasicMagics",
        "page": "BasicMagics",
        "pastebin": "CodeMagics",
        "pdb": "ExecutionMagics",
        "pdef": "NamespaceMagics",
        "pdoc": "NamespaceMagics",
        "pfile": "NamespaceMagics",
        "pinfo": "NamespaceMagics",
        "pinfo2": "NamespaceMagics",
        "pip": "PackagingMagics",
        "popd": "OSMagics",
        "pprint": "BasicMagics",
        "precision": "BasicMagics",
        "prun": "ExecutionMagics",
        "psearch": "NamespaceMagics",
        "psource": "NamespaceMagics",
        "pushd": "OSMagics",
        "pwd": "OSMagics",
        "pycat": "OSMagics",
        "pylab": "PylabMagics",
        "qtconsole": "KernelMagics",
        "quickref": "BasicMagics",
        "recall": "HistoryMagics",
        "rehashx": "OSMagics",
        "reload_ext": "ExtensionMagics",
        "ren": "Other",
        "rep": "Other",
        "rerun": "HistoryMagics",
        "reset": "NamespaceMagics",
        "reset_selective": "NamespaceMagics",
        "rmdir": "Other",
        "run": "ExecutionMagics",
        "save": "CodeMagics",
        "sc": "OSMagics",
        "set_env": "OSMagics",
        "store": "StoreMagics",
        "sx": "OSMagics",
        "system": "OSMagics",
        "tb": "ExecutionMagics",
        "time": "ExecutionMagics",
        "timeit": "ExecutionMagics",
        "unalias": "OSMagics",
        "unload_ext": "ExtensionMagics",
        "who": "NamespaceMagics",
        "who_ls": "NamespaceMagics",
        "whos": "NamespaceMagics",
        "xdel": "NamespaceMagics",
        "xmode": "BasicMagics"
       }
      },
      "text/plain": [
       "Available line magics:\n",
       "%alias  %alias_magic  %autoawait  %autocall  %automagic  %autosave  %bookmark  %cd  %clear  %cls  %colors  %conda  %config  %connect_info  %copy  %ddir  %debug  %dhist  %dirs  %doctest_mode  %echo  %ed  %edit  %env  %gui  %hist  %history  %killbgscripts  %ldir  %less  %load  %load_ext  %loadpy  %logoff  %logon  %logstart  %logstate  %logstop  %ls  %lsmagic  %macro  %magic  %matplotlib  %mkdir  %more  %notebook  %page  %pastebin  %pdb  %pdef  %pdoc  %pfile  %pinfo  %pinfo2  %pip  %popd  %pprint  %precision  %prun  %psearch  %psource  %pushd  %pwd  %pycat  %pylab  %qtconsole  %quickref  %recall  %rehashx  %reload_ext  %ren  %rep  %rerun  %reset  %reset_selective  %rmdir  %run  %save  %sc  %set_env  %store  %sx  %system  %tb  %time  %timeit  %unalias  %unload_ext  %who  %who_ls  %whos  %xdel  %xmode\n",
       "\n",
       "Available cell magics:\n",
       "%%!  %%HTML  %%SVG  %%bash  %%capture  %%cmd  %%debug  %%file  %%html  %%javascript  %%js  %%latex  %%markdown  %%perl  %%prun  %%pypy  %%python  %%python2  %%python3  %%ruby  %%script  %%sh  %%svg  %%sx  %%system  %%time  %%timeit  %%writefile\n",
       "\n",
       "Automagic is ON, % prefix IS NOT needed for line magics."
      ]
     },
     "execution_count": 7,
     "metadata": {},
     "output_type": "execute_result"
    }
   ],
   "source": [
    "%lsmagic "
   ]
  },
  {
   "cell_type": "markdown",
   "id": "c6df31e6",
   "metadata": {},
   "source": [
    "## %%magic commands\n",
    "%%magic commands are cell-level commands that are prefixed with a \"%%\" symbol. These commands are used to perform actions that affect the entire cell. Some examples of %%magic commands include:\n"
   ]
  },
  {
   "cell_type": "markdown",
   "id": "bdc60f1b",
   "metadata": {},
   "source": [
    "### %%time\n",
    "\n",
    "The %%time command allows users to time how long it takes for a particular cell to execute. This can be useful for optimizing code and identifying potential bottlenecks in a program. For example, let's say we want to time how long it takes to create a list of random numbers:"
   ]
  },
  {
   "cell_type": "code",
   "execution_count": 9,
   "id": "d605deac",
   "metadata": {},
   "outputs": [
    {
     "name": "stdout",
     "output_type": "stream",
     "text": [
      "CPU times: total: 594 ms\n",
      "Wall time: 853 ms\n"
     ]
    }
   ],
   "source": [
    "%%time\n",
    "import random\n",
    "numbers = [random.randint(1, 100) for _ in range(1000000)]\n"
   ]
  },
  {
   "cell_type": "markdown",
   "id": "33eed619",
   "metadata": {},
   "source": [
    "### %%html\n",
    "\n",
    "The %%html command allows users to display HTML content in a Jupyter notebook cell. This can be useful for creating rich content, such as tables or charts. For example, let's say we want to display a simple HTML table:\n",
    "\n"
   ]
  },
  {
   "cell_type": "code",
   "execution_count": 10,
   "id": "673983c3",
   "metadata": {},
   "outputs": [
    {
     "data": {
      "text/html": [
       "<table>\n",
       "  <tr>\n",
       "    <th>Name</th>\n",
       "    <th>Age</th>\n",
       "  </tr>\n",
       "  <tr>\n",
       "    <td>John</td>\n",
       "    <td>30</td>\n",
       "  </tr>\n",
       "  <tr>\n",
       "    <td>Jane</td>\n",
       "    <td>25</td>\n",
       "  </tr>\n",
       "</table>\n"
      ],
      "text/plain": [
       "<IPython.core.display.HTML object>"
      ]
     },
     "metadata": {},
     "output_type": "display_data"
    }
   ],
   "source": [
    "%%html\n",
    "<table>\n",
    "  <tr>\n",
    "    <th>Name</th>\n",
    "    <th>Age</th>\n",
    "  </tr>\n",
    "  <tr>\n",
    "    <td>John</td>\n",
    "    <td>30</td>\n",
    "  </tr>\n",
    "  <tr>\n",
    "    <td>Jane</td>\n",
    "    <td>25</td>\n",
    "  </tr>\n",
    "</table>\n"
   ]
  },
  {
   "cell_type": "markdown",
   "id": "514cead8",
   "metadata": {},
   "source": [
    "### %%writefile\n",
    "\n",
    "The %%writefile command allows users to write the contents of a cell to a file. This can be useful for saving code or data for later use. For example, let's say we want to save a Python script called \"my_script.py\" that contains a function called \"my_function\":"
   ]
  },
  {
   "cell_type": "code",
   "execution_count": 11,
   "id": "5d713899",
   "metadata": {},
   "outputs": [
    {
     "name": "stdout",
     "output_type": "stream",
     "text": [
      "Writing my_script.py\n"
     ]
    }
   ],
   "source": [
    "%%writefile my_script.py\n",
    "def my_function():\n",
    "    print(\"Hello, world!\")\n"
   ]
  },
  {
   "cell_type": "markdown",
   "id": "1955fd89",
   "metadata": {},
   "source": [
    "### %%capture\n",
    "The %%capture magic command in Jupyter notebook is used to capture the standard output and error streams of a cell. This can be particularly useful when dealing with code that produces a lot of output or when running long processes that may have error messages.\n",
    "\n",
    "Here's an example of how to use the %%capture magic command:"
   ]
  },
  {
   "cell_type": "code",
   "execution_count": 12,
   "id": "58d4dfdd",
   "metadata": {},
   "outputs": [],
   "source": [
    "%%capture captured_output\n",
    "\n",
    "print(\"This is some example output\")\n",
    "for i in range(5):\n",
    "    print(i)\n",
    "\n",
    "print(\"Done with output\")\n"
   ]
  },
  {
   "cell_type": "markdown",
   "id": "897b3134",
   "metadata": {},
   "source": [
    "In this example, we use %%capture to capture the output of the cell, which includes the text \"This is some example output\", the numbers 0-4, and \"Done with output\". We assign this captured output to the variable captured_output.\n",
    "\n",
    "We can then access the captured output by calling captured_output.stdout or captured_output.stderr, depending on which stream we want to access. For example:"
   ]
  },
  {
   "cell_type": "code",
   "execution_count": 13,
   "id": "f01f7ad7",
   "metadata": {
    "scrolled": true
   },
   "outputs": [
    {
     "name": "stdout",
     "output_type": "stream",
     "text": [
      "This is some example output\n",
      "0\n",
      "1\n",
      "2\n",
      "3\n",
      "4\n",
      "Done with output\n",
      "\n"
     ]
    }
   ],
   "source": [
    "print(captured_output.stdout)"
   ]
  },
  {
   "cell_type": "markdown",
   "id": "9bc717b5",
   "metadata": {},
   "source": [
    "### %%latex\n",
    "The %%latex magic command in Jupyter Notebook is used to render LaTeX code within a cell. LaTeX is a high-quality typesetting system used to create technical and scientific documents. With this magic command, you can input LaTeX code directly into a cell and the output will be displayed as formatted text.\n",
    "\n",
    "To use %%latex, simply begin a cell with %%latex and then input your LaTeX code within the cell. Once you run the cell, the output will be displayed as formatted text.\n",
    "\n",
    "Here's an example:"
   ]
  },
  {
   "cell_type": "code",
   "execution_count": 16,
   "id": "a4db425d",
   "metadata": {},
   "outputs": [
    {
     "data": {
      "text/latex": [
       "\n",
       "\\begin{equation}\n",
       "    E = mc^2\n",
       "\\end{equation}\n",
       "\n",
       "This is the famous equation derived by Albert Einstein.\n"
      ],
      "text/plain": [
       "<IPython.core.display.Latex object>"
      ]
     },
     "metadata": {},
     "output_type": "display_data"
    }
   ],
   "source": [
    "%%latex\n",
    "\n",
    "\\begin{equation}\n",
    "    E = mc^2\n",
    "\\end{equation}\n",
    "\n",
    "This is the famous equation derived by Albert Einstein.\n"
   ]
  },
  {
   "cell_type": "markdown",
   "id": "5e10eb81",
   "metadata": {},
   "source": [
    "## 2.5 BASICS OF PYTHON LANGUAGE \n",
    "\n",
    "Python is a high-level, interpreted programming language that is widely used in scientific computing, data analysis, artificial intelligence, and other fields. It is designed to be easy to read and write, with a simple and consistent syntax that makes it easy for new programmers to learn.\n"
   ]
  },
  {
   "cell_type": "markdown",
   "id": "5a45b41f",
   "metadata": {},
   "source": [
    "### Comment in Python \n",
    "\n",
    "Comments are an important aspect of any programming language, as they allow developers to leave notes for themselves and others about the functionality of the code. In Python, comments are represented by a pound sign (#) and can be placed at the beginning of any line or after a statement.\n",
    "\n",
    "Single-line comments are used to provide a brief description or explanation of the code that follows it. They are placed at the beginning of a line and can be used to explain the purpose of a statement or function. For example:\n"
   ]
  },
  {
   "cell_type": "code",
   "execution_count": 17,
   "id": "2123d373",
   "metadata": {},
   "outputs": [],
   "source": [
    "# This is a single-line comment\n",
    "x = 5 # This is also a single-line comment\n"
   ]
  },
  {
   "cell_type": "code",
   "execution_count": 18,
   "id": "1ee716b2",
   "metadata": {},
   "outputs": [],
   "source": [
    "def add_numbers(x, y):\n",
    "    \"\"\"\n",
    "    This function takes two numbers as input and returns their sum\n",
    "    \"\"\"\n",
    "    return x + y\n"
   ]
  },
  {
   "cell_type": "markdown",
   "id": "b5b99d2a",
   "metadata": {},
   "source": [
    "### Data Types\n",
    "\n",
    "In Python, data type refers to the classification or categorization of data items. In other words, data types determine what operations can be performed on a variable and how it can be stored in memory. Python has several built-in data types, including:\n",
    "\n",
    "#### 1.\tNumbers: \n",
    "\n",
    "The number data type in Python is used to store numeric values. It includes integers, floats, and complex numbers.\n",
    "\n",
    "Examples:\n",
    "\n",
    "\n"
   ]
  },
  {
   "cell_type": "code",
   "execution_count": 19,
   "id": "b7c73be7",
   "metadata": {},
   "outputs": [],
   "source": [
    "a = 10       # integer\n",
    "b = 3.14     # float\n",
    "c = 2 + 3j   # complex number"
   ]
  },
  {
   "cell_type": "markdown",
   "id": "1acda160",
   "metadata": {},
   "source": [
    "#### 2.\tStrings: \n",
    "\n",
    "The string data type is used to represent a sequence of characters. In Python, strings are enclosed in either single or double quotes.\n",
    "\n",
    "Examples:\n",
    "\n"
   ]
  },
  {
   "cell_type": "code",
   "execution_count": 20,
   "id": "76c3b3f4",
   "metadata": {},
   "outputs": [],
   "source": [
    "name = \"John Doe\"       # string using double quotes\n",
    "address = '123 Main St' # string using single quotes"
   ]
  },
  {
   "cell_type": "markdown",
   "id": "1b1b2f81",
   "metadata": {},
   "source": [
    "#### 3.\tBooleans: \n",
    "    \n",
    "The boolean data type in Python is used to represent True or False values.\n",
    "\n",
    "Examples:\n",
    "\n"
   ]
  },
  {
   "cell_type": "code",
   "execution_count": 21,
   "id": "5b53d64b",
   "metadata": {},
   "outputs": [],
   "source": [
    "is_raining = True      # boolean with True value\n",
    "is_sunny = False       # boolean with False value"
   ]
  },
  {
   "cell_type": "markdown",
   "id": "3cce8c4c",
   "metadata": {},
   "source": [
    "####  4.\tLists: \n",
    "\n",
    "A list is an ordered collection of elements, and each element can be of a different data type.\n",
    "\n",
    "Examples:\n",
    "\n"
   ]
  },
  {
   "cell_type": "code",
   "execution_count": 22,
   "id": "0661d896",
   "metadata": {},
   "outputs": [],
   "source": [
    "my_list = [1, \"hello\", 3.14, True] # a list containing different data types"
   ]
  },
  {
   "cell_type": "markdown",
   "id": "a8a61930",
   "metadata": {},
   "source": [
    "#### 5.\tTuples: \n",
    "\n",
    "A tuple is similar to a list, but it is immutable (cannot be modified).\n",
    "\n",
    "Examples:\n",
    "\n"
   ]
  },
  {
   "cell_type": "code",
   "execution_count": 23,
   "id": "c5d04b6d",
   "metadata": {},
   "outputs": [],
   "source": [
    "my_tuple = (1, 2, 3) # a tuple of integers"
   ]
  },
  {
   "cell_type": "markdown",
   "id": "030d1e74",
   "metadata": {},
   "source": [
    "#### 6.\tSets: \n",
    "\n",
    "A set is an unordered collection of unique elements.\n",
    "\n",
    "Examples:\n",
    "\n"
   ]
  },
  {
   "cell_type": "code",
   "execution_count": 24,
   "id": "f686ef35",
   "metadata": {},
   "outputs": [],
   "source": [
    "my_set = {1, 2, 3} # a set of integers"
   ]
  },
  {
   "cell_type": "markdown",
   "id": "b0f246e7",
   "metadata": {},
   "source": [
    "####  7.\tDictionaries:\n",
    "\n",
    "A dictionary is an unordered collection of key-value pairs.\n",
    "\n",
    "Examples:"
   ]
  },
  {
   "cell_type": "code",
   "execution_count": 26,
   "id": "cc624499",
   "metadata": {},
   "outputs": [],
   "source": [
    "my_dict = {'name': 'John', 'age': 30, 'address': '123 Main St'} \n",
    "# a dictionary with string keys and different data types as values"
   ]
  }
 ],
 "metadata": {
  "kernelspec": {
   "display_name": "Python 3 (ipykernel)",
   "language": "python",
   "name": "python3"
  },
  "language_info": {
   "codemirror_mode": {
    "name": "ipython",
    "version": 3
   },
   "file_extension": ".py",
   "mimetype": "text/x-python",
   "name": "python",
   "nbconvert_exporter": "python",
   "pygments_lexer": "ipython3",
   "version": "3.9.12"
  }
 },
 "nbformat": 4,
 "nbformat_minor": 5
}
