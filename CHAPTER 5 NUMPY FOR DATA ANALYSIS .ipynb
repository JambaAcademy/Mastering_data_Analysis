{
 "cells": [
  {
   "cell_type": "markdown",
   "id": "59fda9fa",
   "metadata": {},
   "source": [
    "# CHAPTER 5 NUMPY FOR DATA ANALYSIS "
   ]
  },
  {
   "cell_type": "markdown",
   "id": "09c2e83d",
   "metadata": {},
   "source": [
    "## 5.1 INTRODUCTION TO NUMPY AND ITS DATA STRUCTURES \n",
    "\n",
    "NumPy is a powerful library in Python for numerical computations and data manipulation. It provides a wide range of tools for working with arrays and matrices of numerical data, making it an essential tool for data analysis. In this section, we will explore the basics of NumPy, including its array and matrix data structures.\n",
    "\n",
    "NumPy provides a powerful data structure called a ndarray (n-dimensional array), which is used to store and manipulate large arrays of homogeneous data (data of the same type, such as integers or floating point values). NumPy arrays are more efficient and convenient to work with compared to Python's built-in list or tuple data structures.\n",
    "\n",
    "### Creating NumPy Arrays\n",
    "\n",
    "There are several ways to create NumPy arrays, such as by using the array() function, by using a list or tuple, or by using built-in NumPy functions like zeros(), ones(), and arange(). For example, the following code creates a 1-dimensional array of integers from 0 to 9:\n"
   ]
  },
  {
   "cell_type": "code",
   "execution_count": 1,
   "id": "915307d9",
   "metadata": {},
   "outputs": [
    {
     "name": "stdout",
     "output_type": "stream",
     "text": [
      "[0 1 2 3 4 5 6 7 8 9]\n"
     ]
    }
   ],
   "source": [
    "import numpy as np\n",
    "array_1d = np.arange(10)\n",
    "print(array_1d)"
   ]
  },
  {
   "cell_type": "markdown",
   "id": "7d8ecc14",
   "metadata": {},
   "source": [
    "Here's a Python program that demonstrates the use of different numpy array placeholders:"
   ]
  },
  {
   "cell_type": "code",
   "execution_count": 6,
   "id": "3bf470a2",
   "metadata": {},
   "outputs": [
    {
     "name": "stdout",
     "output_type": "stream",
     "text": [
      "Zeros Array:\n",
      "[0. 0. 0. 0. 0.]\n",
      "Ones Array:\n",
      "[[1. 1. 1.]\n",
      " [1. 1. 1.]]\n",
      "Arange Array:\n",
      "[0 1 2 3 4]\n",
      "Linspace Array:\n",
      "[0.   0.25 0.5  0.75 1.  ]\n",
      "Full Array:\n",
      "[[7 7]\n",
      " [7 7]]\n",
      "Eye Array:\n",
      "[[1. 0. 0.]\n",
      " [0. 1. 0.]\n",
      " [0. 0. 1.]]\n",
      "Random Array:\n",
      "[[0.42247426 0.30512348 0.16945615]\n",
      " [0.89307503 0.59665746 0.03105797]]\n",
      "Empty Array:\n",
      "[[0.25 0.5 ]\n",
      " [0.75 1.  ]]\n"
     ]
    }
   ],
   "source": [
    "import numpy as np\n",
    "\n",
    "# Zeros\n",
    "zeros_arr = np.zeros(5)\n",
    "print(\"Zeros Array:\")\n",
    "print(zeros_arr)\n",
    "\n",
    "# Ones\n",
    "ones_arr = np.ones((2,3))\n",
    "print(\"Ones Array:\")\n",
    "print(ones_arr)\n",
    "\n",
    "# Arange\n",
    "arange_arr = np.arange(5)\n",
    "print(\"Arange Array:\")\n",
    "print(arange_arr)\n",
    "\n",
    "# Linspace\n",
    "linspace_arr = np.linspace(0, 1, 5)\n",
    "print(\"Linspace Array:\")\n",
    "print(linspace_arr)\n",
    "\n",
    "# Full\n",
    "full_arr = np.full((2,2), 7)\n",
    "print(\"Full Array:\")\n",
    "print(full_arr)\n",
    "\n",
    "# Eye\n",
    "eye_arr = np.eye(3)\n",
    "print(\"Eye Array:\")\n",
    "print(eye_arr)\n",
    "\n",
    "# Random\n",
    "random_arr = np.random.random((2,3))\n",
    "print(\"Random Array:\")\n",
    "print(random_arr)\n",
    "\n",
    "# Empty\n",
    "empty_arr = np.empty((2,2))\n",
    "print(\"Empty Array:\")\n",
    "print(empty_arr)\n"
   ]
  },
  {
   "cell_type": "markdown",
   "id": "eced741f",
   "metadata": {},
   "source": [
    "### Creating Multidimensional Arrays\n",
    "\n",
    "NumPy also allows us to create multidimensional arrays, such as 2-dimensional (matrices) and 3-dimensional arrays. We can create multidimensional arrays by passing a list of lists or a tuple of tuples to the array() function. \n",
    "\n",
    "here's an example program that generates arrays of various dimensions using NumPy:"
   ]
  },
  {
   "cell_type": "code",
   "execution_count": 5,
   "id": "a0fe1afc",
   "metadata": {},
   "outputs": [
    {
     "name": "stdout",
     "output_type": "stream",
     "text": [
      "1D Array:\n",
      "[3 2]\n",
      "2D Array:\n",
      "[[1 0 1]\n",
      " [3 4 1]]\n",
      "3D Array:\n",
      "[list([[1, 7, 9], [5, 9, 3]]) list([[7, 9, 9]])]\n",
      "4D Array:\n",
      "[[[[ 1  2]\n",
      "   [ 3  4]]\n",
      "\n",
      "  [[ 5  6]\n",
      "   [ 7  8]]]\n",
      "\n",
      "\n",
      " [[[ 9 10]\n",
      "   [11 12]]\n",
      "\n",
      "  [[13 14]\n",
      "   [15 16]]]]\n",
      "5D Array:\n",
      "[[[[[ 1  2]\n",
      "    [ 3  4]]\n",
      "\n",
      "   [[ 5  6]\n",
      "    [ 7  8]]]\n",
      "\n",
      "\n",
      "  [[[ 9 10]\n",
      "    [11 12]]\n",
      "\n",
      "   [[13 14]\n",
      "    [15 16]]]]\n",
      "\n",
      "\n",
      "\n",
      " [[[[17 18]\n",
      "    [19 20]]\n",
      "\n",
      "   [[21 22]\n",
      "    [23 24]]]\n",
      "\n",
      "\n",
      "  [[[25 26]\n",
      "    [27 28]]\n",
      "\n",
      "   [[29 30]\n",
      "    [31 32]]]]]\n"
     ]
    },
    {
     "name": "stderr",
     "output_type": "stream",
     "text": [
      "C:\\Users\\rajen\\AppData\\Local\\Temp\\ipykernel_34084\\1008546789.py:10: VisibleDeprecationWarning: Creating an ndarray from ragged nested sequences (which is a list-or-tuple of lists-or-tuples-or ndarrays with different lengths or shapes) is deprecated. If you meant to do this, you must specify 'dtype=object' when creating the ndarray.\n",
      "  a3 = np.array([[[1, 7, 9], [5, 9, 3]], [[7, 9, 9]]])\n"
     ]
    }
   ],
   "source": [
    "import numpy as np\n",
    "\n",
    "# 1D array\n",
    "a1 = np.array([3, 2])\n",
    "\n",
    "# 2D array\n",
    "a2 = np.array([[1,0, 1], [3, 4, 1]])\n",
    "\n",
    "# 3D array\n",
    "a3 = np.array([[[1, 7, 9], [5, 9, 3]], [[7, 9, 9]]])\n",
    "\n",
    "# 4D array\n",
    "a4 = np.array([[[[1, 2], [3, 4]], [[5, 6], [7, 8]]], [[[9, 10], [11, 12]], [[13, 14], [15, 16]]]])\n",
    "\n",
    "# 5D array\n",
    "a5 = np.array([[[[[1, 2], [3, 4]], [[5, 6], [7, 8]]], [[[9, 10], [11, 12]], [[13, 14], [15, 16]]]],\n",
    "               [[[[17, 18], [19, 20]], [[21, 22], [23, 24]]], [[[25, 26], [27, 28]], [[29, 30], [31, 32]]]]])\n",
    "\n",
    "# Print the arrays\n",
    "print(\"1D Array:\")\n",
    "print(a1)\n",
    "print(\"2D Array:\")\n",
    "print(a2)\n",
    "print(\"3D Array:\")\n",
    "print(a3)\n",
    "print(\"4D Array:\")\n",
    "print(a4)\n",
    "print(\"5D Array:\")\n",
    "print(a5)\n"
   ]
  },
  {
   "cell_type": "markdown",
   "id": "7ab9896b",
   "metadata": {},
   "source": [
    "### Data Types in NumPy Arrays\n",
    "\n",
    "NumPy arrays have a fixed data type, and all elements of an array must be of the same type. The data type of an array can be accessed using the dtype attribute. For example, the following code creates an array of floating-point numbers and prints its data type:\n"
   ]
  },
  {
   "cell_type": "code",
   "execution_count": 3,
   "id": "8c3dec5b",
   "metadata": {},
   "outputs": [
    {
     "name": "stdout",
     "output_type": "stream",
     "text": [
      "float64\n"
     ]
    }
   ],
   "source": [
    "import numpy as np\n",
    "array_float = np.array([1.0, 2.0, 3.0])\n",
    "print(array_float.dtype)"
   ]
  },
  {
   "cell_type": "code",
   "execution_count": 7,
   "id": "86cd336d",
   "metadata": {},
   "outputs": [],
   "source": [
    "import numpy as np \n",
    "a = np.array([1, 2, 3, 4, 5], dtype=int) "
   ]
  },
  {
   "cell_type": "code",
   "execution_count": 8,
   "id": "96980aaf",
   "metadata": {},
   "outputs": [
    {
     "name": "stdout",
     "output_type": "stream",
     "text": [
      "int32\n"
     ]
    }
   ],
   "source": [
    "print(a.dtype) "
   ]
  },
  {
   "cell_type": "code",
   "execution_count": 9,
   "id": "c75341f3",
   "metadata": {},
   "outputs": [],
   "source": [
    "import numpy as np \n",
    "a = np.array([1, 2, 3, 4, 5], dtype=int) \n",
    "b = a.astype(float) "
   ]
  },
  {
   "cell_type": "markdown",
   "id": "99936bae",
   "metadata": {},
   "source": [
    "## 5.2 MANIPULATING NUMPY ARRAYS \n",
    "\n",
    "In the previous section, we introduced NumPy and its data structures, including the ndarray. In this section, we will explore the various ways to manipulate NumPy arrays, including indexing, slicing, and reshaping.\n",
    "\n",
    "### Indexing and Slicing\n",
    "\n",
    "Indexing and slicing are powerful features in NumPy that allow you to access and manipulate specific elements or subarrays of an array. Indexing in NumPy is similar to indexing in Python lists, where you can access an element of an array using its index. For example, the following code accesses the first element of an array:\n"
   ]
  },
  {
   "cell_type": "code",
   "execution_count": 10,
   "id": "7ecba696",
   "metadata": {},
   "outputs": [
    {
     "name": "stdout",
     "output_type": "stream",
     "text": [
      "1\n"
     ]
    }
   ],
   "source": [
    "import numpy as np\n",
    "array = np.array([1, 2, 3, 4, 5])\n",
    "print(array[0])  # Output: 1"
   ]
  },
  {
   "cell_type": "code",
   "execution_count": 12,
   "id": "5f25b572",
   "metadata": {},
   "outputs": [
    {
     "name": "stdout",
     "output_type": "stream",
     "text": [
      "[[1 2 3]\n",
      " [4 5 6]\n",
      " [7 8 9]]\n",
      "6\n"
     ]
    }
   ],
   "source": [
    "import numpy as np\n",
    "array_2d = np.array([[1, 2, 3], [4, 5, 6], [7, 8, 9]])\n",
    "print(array_2d)\n",
    "print(array_2d[1, 2])  # Output: 6"
   ]
  },
  {
   "cell_type": "markdown",
   "id": "325b4d1f",
   "metadata": {},
   "source": [
    "#### Slicing\n",
    "\n",
    "Slicing, on the other hand, allows you to access a subarray of an array. The syntax for slicing is similar to indexing, but with a colon (:) to indicate the start and end of the slice. For example, the following code creates a slice of the first three elements of an array:"
   ]
  },
  {
   "cell_type": "code",
   "execution_count": 13,
   "id": "9b6bcccd",
   "metadata": {},
   "outputs": [
    {
     "name": "stdout",
     "output_type": "stream",
     "text": [
      "[1 2 3]\n"
     ]
    }
   ],
   "source": [
    "import numpy as np\n",
    "array = np.array([1, 2, 3, 4, 5])\n",
    "slice = array[0:3]\n",
    "print(slice)  # Output: [1 2 3]"
   ]
  },
  {
   "cell_type": "markdown",
   "id": "aac6f5c0",
   "metadata": {},
   "source": [
    "### Reshaping\n",
    "\n",
    "Reshaping is the process of changing the shape or layout of an array without changing the data. NumPy provides several functions for reshaping arrays, including reshape(), ravel(), and flatten().\n",
    "\n",
    "#### reshape()\n",
    "\n",
    "The reshape() function allows you to change the shape of an array by specifying the number of rows and columns of the new shape. For example, the following code reshapes a 1D array with 4 elements into a 2D array with 2 rows and 2 columns:\n"
   ]
  },
  {
   "cell_type": "code",
   "execution_count": 19,
   "id": "f2e88343",
   "metadata": {},
   "outputs": [
    {
     "name": "stdout",
     "output_type": "stream",
     "text": [
      "[[1 2]\n",
      " [3 4]]\n"
     ]
    }
   ],
   "source": [
    "import numpy as np\n",
    "array = np.array([1, 2, 3, 4])\n",
    "array = array.reshape(2, 2)\n",
    "print(array) "
   ]
  },
  {
   "cell_type": "markdown",
   "id": "2c68b26a",
   "metadata": {},
   "source": [
    "#### ravel()\n",
    "\n",
    "The ravel() function returns a 1D array with all the elements of the input array. It is equivalent to reshaping the array with -1 as one of the dimensions, which tells NumPy to infer the correct size based on the other dimensions."
   ]
  },
  {
   "cell_type": "code",
   "execution_count": 23,
   "id": "3f20971c",
   "metadata": {},
   "outputs": [
    {
     "name": "stdout",
     "output_type": "stream",
     "text": [
      "[1 2 3 4 5 6]\n"
     ]
    }
   ],
   "source": [
    "import numpy as np\n",
    "array = np.array([[1, 2, 3], [4, 5, 6]])\n",
    "raveled = array.ravel()\n",
    "print(raveled)  # Output: [1 2 3 4 5 6]"
   ]
  },
  {
   "cell_type": "markdown",
   "id": "21edb015",
   "metadata": {},
   "source": [
    "#### flatten()\n",
    "\n",
    "The flatten() function also returns a 1D array with all the elements of the input array, but it creates a new copy of the data, rather than returning a view of the original array.\n"
   ]
  },
  {
   "cell_type": "code",
   "execution_count": 24,
   "id": "295ac085",
   "metadata": {},
   "outputs": [
    {
     "name": "stdout",
     "output_type": "stream",
     "text": [
      "[1 2 3 4 5 6]\n"
     ]
    }
   ],
   "source": [
    "import numpy as np\n",
    "array = np.array([[1, 2, 3], [4, 5, 6]])\n",
    "flattened = array.flatten()\n",
    "print(flattened)  #"
   ]
  },
  {
   "cell_type": "markdown",
   "id": "afac6a08",
   "metadata": {},
   "source": [
    "#### Transposing\n",
    "\n",
    "The transpose() function returns a new array with the axes transposed. For example, the following code transposes a 2D array:\n"
   ]
  },
  {
   "cell_type": "code",
   "execution_count": 26,
   "id": "d2128242",
   "metadata": {},
   "outputs": [
    {
     "name": "stdout",
     "output_type": "stream",
     "text": [
      "Before Transpose\n",
      "[[1 2 3]\n",
      " [4 5 6]]\n",
      "\n",
      " After Transpose\n",
      "[[1 4]\n",
      " [2 5]\n",
      " [3 6]]\n"
     ]
    }
   ],
   "source": [
    "import numpy as np\n",
    "array = np.array([[1, 2, 3], [4, 5, 6]])\n",
    "print(\"Before Transpose\")\n",
    "print(array) \n",
    "transposed = array.transpose()\n",
    "print(\"\\n After Transpose\")\n",
    "print(transposed) "
   ]
  },
  {
   "cell_type": "markdown",
   "id": "633b1014",
   "metadata": {},
   "source": [
    "#### Swapping Axes:\n",
    "\n",
    "The swapaxes() function allows you to swap two axes of an array. For example, the following code swaps the first and second axes of a 3D array:\n"
   ]
  },
  {
   "cell_type": "code",
   "execution_count": 28,
   "id": "e38b7509",
   "metadata": {},
   "outputs": [
    {
     "name": "stdout",
     "output_type": "stream",
     "text": [
      "Before Swapping axes\n",
      "[[[1 2]\n",
      "  [3 4]]\n",
      "\n",
      " [[5 6]\n",
      "  [7 8]]]\n",
      "\n",
      " After Swapping axes\n",
      "[[[1 2]\n",
      "  [5 6]]\n",
      "\n",
      " [[3 4]\n",
      "  [7 8]]]\n"
     ]
    }
   ],
   "source": [
    "import numpy as np\n",
    "array = np.array([[[1, 2], [3, 4]], [[5, 6], [7, 8]]])\n",
    "print(\"Before Swapping axes\")\n",
    "print(array) \n",
    "\n",
    "swapped = array.swapaxes(0, 1)\n",
    "print(\"\\n After Swapping axes\")\n",
    "print(swapped) \n"
   ]
  },
  {
   "cell_type": "code",
   "execution_count": 29,
   "id": "3471133f",
   "metadata": {},
   "outputs": [
    {
     "name": "stdout",
     "output_type": "stream",
     "text": [
      "Before Swapping axes\n",
      "[[1 2]\n",
      " [3 4]\n",
      " [5 6]]\n",
      "\n",
      " After Swapping axes\n",
      "[[1 3 5]\n",
      " [2 4 6]]\n"
     ]
    }
   ],
   "source": [
    "import numpy as np\n",
    "arr = np.array([[1, 2], [3, 4], [5, 6]])\n",
    "print(\"Before Swapping axes\")\n",
    "print(arr) \n",
    "\n",
    "arr_swapped = arr.swapaxes(0, 1)\n",
    "print(\"\\n After Swapping axes\")\n",
    "print(arr_swapped)"
   ]
  },
  {
   "cell_type": "markdown",
   "id": "c205d972",
   "metadata": {},
   "source": [
    "## 5.3 BROADCASTING \n",
    "\n",
    "Broadcasting is important concepts in NumPy that allow for efficient and flexible manipulation of arrays. Broadcasting refers to the ability of NumPy to perform mathematical operations on arrays of different shapes, and advanced array manipulation refers to techniques for manipulating arrays in sophisticated ways.\n",
    "\n",
    "Broadcasting is a powerful feature of NumPy that allows for mathematical operations to be performed on arrays of different shapes. It works by \"stretching\" or \"copying\" the smaller array to match the shape of the larger array, before performing the operation.\n",
    "\n",
    "For example, the following code adds a scalar value to each element of an array:\n"
   ]
  },
  {
   "cell_type": "code",
   "execution_count": 30,
   "id": "6d5f4fae",
   "metadata": {},
   "outputs": [
    {
     "name": "stdout",
     "output_type": "stream",
     "text": [
      "[3 4 5]\n"
     ]
    }
   ],
   "source": [
    "import numpy as np\n",
    "a = np.array([1, 2, 3])\n",
    "b = 2\n",
    "c = a + b\n",
    "print(c)  # Output: [3 4 5]5.3 BROADCASTING \n",
    "Broadcasting is important concepts in NumPy that allow for efficient and flexible manipulation of arrays. Broadcasting refers to the ability of NumPy to perform mathematical operations on arrays of different shapes, and advanced array manipulation refers to techniques for manipulating arrays in sophisticated ways.\n",
    "Broadcasting is a powerful feature of NumPy that allows for mathematical operations to be performed on arrays of different shapes. It works by \"stretching\" or \"copying\" the smaller array to match the shape of the larger array, before performing the operation.\n",
    "For example, the following code adds a scalar value to each element of an array:\n"
   ]
  },
  {
   "cell_type": "code",
   "execution_count": 31,
   "id": "e002fd95",
   "metadata": {},
   "outputs": [
    {
     "name": "stdout",
     "output_type": "stream",
     "text": [
      "[[ 1  4  9]\n",
      " [ 4 10 18]]\n"
     ]
    }
   ],
   "source": [
    "import numpy as np\n",
    "a = np.array([[1, 2, 3], [4, 5, 6]])\n",
    "b = np.array([1, 2, 3])\n",
    "c = a * b\n",
    "print(c)"
   ]
  },
  {
   "cell_type": "markdown",
   "id": "cb28bc86",
   "metadata": {},
   "source": [
    "## 5.4 MATHEMATICAL OPERATIONS AND LINEAR ALGEBRA WITH NUMPY \n",
    "\n",
    "NumPy is a powerful library in Python for numerical computations and data manipulation. One of its key features is its support for mathematical operations and linear algebra. In this section, we will explore the various mathematical operations and linear algebra functions that are available in NumPy, and how they can be used in data analysis tasks.\n",
    "\n",
    "### Arithmetic operations:\n",
    "\n",
    "NumPy provides a wide range of functions for performing arithmetic operations on arrays, such as addition, subtraction, multiplication, and division. These operations can be performed element-wise on arrays of the same shape, and will return an array with the same shape as the input arrays.\n",
    "\n",
    "For example, the following code performs element-wise operation of two arrays:\n"
   ]
  },
  {
   "cell_type": "code",
   "execution_count": 32,
   "id": "b740aa96",
   "metadata": {},
   "outputs": [
    {
     "name": "stdout",
     "output_type": "stream",
     "text": [
      "[5 7 9]\n",
      "[ 4 10 18]\n",
      "[-3 -3 -3]\n",
      "[0.25 0.4  0.5 ]\n"
     ]
    }
   ],
   "source": [
    "import numpy as np\n",
    "a = np.array([1, 2, 3])\n",
    "b = np.array([4, 5, 6])\n",
    "sum1 = a + b\n",
    "print(sum1)  # Output: [5 7 9]\n",
    "\n",
    "cross = a * b\n",
    "print(cross)  # Output: [4 10 18]\n",
    "\n",
    "subtract1 = a - b\n",
    "print(subtract1)  # Output: [-3 -3 -3]\n",
    "\n",
    "div1 = a / b\n",
    "print(div1)  # Output: [0.25 0.4  0.5]\n"
   ]
  },
  {
   "cell_type": "markdown",
   "id": "d8102dcd",
   "metadata": {},
   "source": [
    "### Linear Algebra\n",
    "\n",
    "Linear algebra is an essential part of data science and machine learning, and Numpy offers powerful tools for working with linear algebra. In this section, we will discuss the basics of linear algebra in Numpy and provide a coding example to illustrate the concepts.\n",
    "\n",
    "Numpy provides a set of linear algebra functions that can be used to perform various operations such as matrix multiplication, inversion, decomposition, and many more. These functions are part of the linalg module in Numpy and are designed to work efficiently with large arrays and matrices.\n",
    "\n",
    "To perform linear algebra operations in Numpy, we first need to create an array or matrix. We can create an array in Numpy using the array() function or create a matrix using the mat() function. Once we have an array or matrix, we can use the various functions provided by the linalg module to perform the desired operation.\n"
   ]
  },
  {
   "cell_type": "code",
   "execution_count": 33,
   "id": "c58e986a",
   "metadata": {},
   "outputs": [
    {
     "name": "stdout",
     "output_type": "stream",
     "text": [
      "Matrix Multiplication:\n",
      "[[ 30  24  18]\n",
      " [ 84  69  54]\n",
      " [138 114  90]]\n",
      "\n",
      "Matrix Inversion:\n",
      "[[ 3.15251974e+15 -6.30503948e+15  3.15251974e+15]\n",
      " [-6.30503948e+15  1.26100790e+16 -6.30503948e+15]\n",
      " [ 3.15251974e+15 -6.30503948e+15  3.15251974e+15]]\n",
      "\n",
      "Eigen Decomposition:\n",
      "Eigenvalues:\n",
      " [ 1.61168440e+01 -1.11684397e+00 -3.38433605e-16]\n",
      "Eigenvectors:\n",
      " [[-0.23197069 -0.78583024  0.40824829]\n",
      " [-0.52532209 -0.08675134 -0.81649658]\n",
      " [-0.8186735   0.61232756  0.40824829]]\n",
      "\n",
      "Singular Value Decomposition:\n",
      "Left Singular Vectors:\n",
      " [[-0.21483724  0.88723069  0.40824829]\n",
      " [-0.52058739  0.24964395 -0.81649658]\n",
      " [-0.82633754 -0.38794278  0.40824829]]\n",
      "Singular Values:\n",
      " [1.68481034e+01 1.06836951e+00 3.33475287e-16]\n",
      "Right Singular Vectors:\n",
      " [[-0.47967118 -0.57236779 -0.66506441]\n",
      " [-0.77669099 -0.07568647  0.62531805]\n",
      " [-0.40824829  0.81649658 -0.40824829]]\n",
      "\n",
      "Matrix Trace:\n",
      "15\n",
      "\n",
      "Determinant of a Matrix:\n",
      "-9.51619735392994e-16\n",
      "\n",
      "Solving Linear Equations:\n",
      "[[-0.23333333]\n",
      " [ 0.46666667]\n",
      " [ 0.1       ]]\n"
     ]
    }
   ],
   "source": [
    "import numpy as np\n",
    "\n",
    "# Define matrices\n",
    "A = np.array([[1, 2, 3], [4, 5, 6], [7, 8, 9]])\n",
    "B = np.array([[9, 8, 7], [6, 5, 4], [3, 2, 1]])\n",
    "\n",
    "# Matrix multiplication\n",
    "C = np.dot(A, B)\n",
    "print(\"Matrix Multiplication:\")\n",
    "print(C)\n",
    "\n",
    "# Matrix inversion\n",
    "D = np.linalg.inv(A)\n",
    "print(\"\\nMatrix Inversion:\")\n",
    "print(D)\n",
    "\n",
    "# Eigen decomposition\n",
    "E, F = np.linalg.eig(A)\n",
    "print(\"\\nEigen Decomposition:\")\n",
    "print(\"Eigenvalues:\\n\", E)\n",
    "print(\"Eigenvectors:\\n\", F)\n",
    "\n",
    "# Singular Value Decomposition (SVD)\n",
    "G, H, I = np.linalg.svd(A)\n",
    "print(\"\\nSingular Value Decomposition:\")\n",
    "print(\"Left Singular Vectors:\\n\", G)\n",
    "print(\"Singular Values:\\n\", H)\n",
    "print(\"Right Singular Vectors:\\n\", I)\n",
    "\n",
    "# Matrix trace\n",
    "J = np.trace(A)\n",
    "print(\"\\nMatrix Trace:\")\n",
    "print(J)\n",
    "\n",
    "# Determinant of a matrix\n",
    "K = np.linalg.det(A)\n",
    "print(\"\\nDeterminant of a Matrix:\")\n",
    "print(K)\n",
    "\n",
    "# Solving linear equations\n",
    "x = np.array([[1], [2], [3]])\n",
    "y = np.linalg.solve(A, x)\n",
    "print(\"\\nSolving Linear Equations:\")\n",
    "print(y)\n"
   ]
  },
  {
   "cell_type": "markdown",
   "id": "00ede6d4",
   "metadata": {},
   "source": [
    "#### Eigenvalue and eigenvector\n",
    "\n",
    "The eigenvalue and eigenvector of a matrix are important concepts in linear algebra. Eigenvalues are scalars that represent the amount by which a matrix stretches or shrinks a vector, and eigenvectors are vectors that are stretched or shrunk by a matrix.\n",
    "\n",
    "NumPy provides the linalg.eig() function, which can be used to compute the eigenvalues and eigenvectors of a matrix.\n"
   ]
  },
  {
   "cell_type": "code",
   "execution_count": 35,
   "id": "ccdf0116",
   "metadata": {},
   "outputs": [
    {
     "name": "stdout",
     "output_type": "stream",
     "text": [
      "Eigenvalues:  [-0.37228132  5.37228132]\n",
      "Eigenvectors:  [[-0.82456484 -0.41597356]\n",
      " [ 0.56576746 -0.90937671]]\n"
     ]
    }
   ],
   "source": [
    "import numpy as np\n",
    "a = np.array([[1, 2], [3, 4]])\n",
    "eigenvalues, eigenvectors = np.linalg.eig(a)\n",
    "print(\"Eigenvalues: \", eigenvalues) # Output: Eigenvalues: [-0.37228132 5.37228132]\n",
    "print(\"Eigenvectors: \", eigenvectors) # Output: Eigenvectors: [[-0.82456484 -0.41597356]\n",
    "# [ 0.56576746 -0.90937671]]"
   ]
  },
  {
   "cell_type": "markdown",
   "id": "4de2bfe1",
   "metadata": {},
   "source": [
    "#### Matrix Decomposition:\n",
    "\n",
    "Matrix decomposition is a technique for breaking a matrix down into simpler matrices. NumPy provides functions for several types of matrix decomposition, including the linalg.svd() function for singular value decomposition, and the linalg.qr() function for QR decomposition.\n",
    "\n",
    "For example, the following code performs singular value decomposition on a matrix:\n"
   ]
  },
  {
   "cell_type": "code",
   "execution_count": 36,
   "id": "edca17ee",
   "metadata": {},
   "outputs": [
    {
     "name": "stdout",
     "output_type": "stream",
     "text": [
      "U:  [[-0.2298477   0.88346102  0.40824829]\n",
      " [-0.52474482  0.24078249 -0.81649658]\n",
      " [-0.81964194 -0.40189603  0.40824829]]\n",
      "S:  [9.52551809 0.51430058]\n",
      "V:  [[-0.61962948 -0.78489445]\n",
      " [-0.78489445  0.61962948]]\n"
     ]
    }
   ],
   "source": [
    "import numpy as np\n",
    "a = np.array([[1, 2], [3, 4], [5, 6]])\n",
    "U, s, V = np.linalg.svd(a)\n",
    "print(\"U: \", U)\n",
    "print(\"S: \", s)\n",
    "print(\"V: \", V)"
   ]
  },
  {
   "cell_type": "markdown",
   "id": "ebb43db6",
   "metadata": {},
   "source": [
    "## 5.5 RANDOM SAMPLING & PROBABILITY DISTRIBUTIONS \n",
    "\n",
    "Random sampling and probability distributions are important concepts in data analysis that allow for the generation of random numbers and the modeling of random processes. NumPy provides several functions for generating random numbers and working with probability distributions, which are useful for tasks such as statistical modeling, simulation, and machine learning.\n",
    "\n",
    "### Random Sampling\n",
    "\n",
    "NumPy provides several functions for generating random numbers, including the random.rand() function for generating random floats in a given shape, and the random.randint() function for generating random integers in a given shape and range.\n",
    "\n",
    "For example, the following code generates an array of 5 random floats between 0 and 1:\n"
   ]
  },
  {
   "cell_type": "code",
   "execution_count": 37,
   "id": "f1e8b244",
   "metadata": {},
   "outputs": [
    {
     "data": {
      "text/plain": [
       "array([0.29458009, 0.25169281, 0.69680856, 0.21127407, 0.7576471 ])"
      ]
     },
     "execution_count": 37,
     "metadata": {},
     "output_type": "execute_result"
    }
   ],
   "source": [
    "import numpy as np\n",
    "np.random.rand(5)"
   ]
  },
  {
   "cell_type": "code",
   "execution_count": 38,
   "id": "1b53f328",
   "metadata": {},
   "outputs": [
    {
     "data": {
      "text/plain": [
       "array([0, 8, 9, 2, 9])"
      ]
     },
     "execution_count": 38,
     "metadata": {},
     "output_type": "execute_result"
    }
   ],
   "source": [
    "np.random.randint(0, 10, 5)"
   ]
  },
  {
   "cell_type": "markdown",
   "id": "8aebe17c",
   "metadata": {},
   "source": [
    "## 5.6 USE OF NUMPY IN DATA ANALYIS \n",
    "\n",
    "Here are some real-life use cases of NumPy in data analysis.\n"
   ]
  },
  {
   "cell_type": "code",
   "execution_count": 48,
   "id": "c8144a95",
   "metadata": {},
   "outputs": [
    {
     "name": "stdout",
     "output_type": "stream",
     "text": [
      "Age:\n",
      " mean=41.98, \n",
      " median=43.00,\n",
      " std=13.79\n",
      "BMI: \n",
      " mean=30.71, \n",
      " median=28.50, \n",
      " std=11.97\n"
     ]
    }
   ],
   "source": [
    "import numpy as np\n",
    "\n",
    "np.random.seed(42)\n",
    "\n",
    "# Generate random age data for 500 people between 18 and 65\n",
    "age = np.random.randint(18, 66, size=500)\n",
    "\n",
    "# Generate random height data for 500 people between 4'6\" and 7'0\"\n",
    "height_inches = np.random.randint(54, 84, size=500)\n",
    "height_feet = height_inches / 12.0\n",
    "\n",
    "# Generate random weight data for 500 people between 100 and 300 lbs\n",
    "weight = np.random.randint(100, 301, size=500)\n",
    "\n",
    "# Calculate BMI using the formula: weight (kg) / height (m)^2\n",
    "height_meters = height_inches * 0.0254\n",
    "weight_kg = weight * 0.453592\n",
    "bmi = weight_kg / (height_meters ** 2)\n",
    "\n",
    "# Print the mean, median, and standard deviation of age and BMI\n",
    "print(\"Age:\\n mean={:.2f}, \\n median={:.2f},\\n std={:.2f}\".format(np.mean(age), np.median(age), np.std(age)))\n",
    "print(\"BMI: \\n mean={:.2f}, \\n median={:.2f}, \\n std={:.2f}\".format(np.mean(bmi), np.median(bmi), np.std(bmi)))\n"
   ]
  },
  {
   "cell_type": "code",
   "execution_count": null,
   "id": "cc1b7b47",
   "metadata": {},
   "outputs": [],
   "source": [
    "    "
   ]
  }
 ],
 "metadata": {
  "kernelspec": {
   "display_name": "Python 3 (ipykernel)",
   "language": "python",
   "name": "python3"
  },
  "language_info": {
   "codemirror_mode": {
    "name": "ipython",
    "version": 3
   },
   "file_extension": ".py",
   "mimetype": "text/x-python",
   "name": "python",
   "nbconvert_exporter": "python",
   "pygments_lexer": "ipython3",
   "version": "3.9.12"
  }
 },
 "nbformat": 4,
 "nbformat_minor": 5
}
