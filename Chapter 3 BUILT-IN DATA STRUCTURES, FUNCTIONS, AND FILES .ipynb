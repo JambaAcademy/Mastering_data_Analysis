{
 "cells": [
  {
   "cell_type": "markdown",
   "id": "2ec3a62f",
   "metadata": {},
   "source": [
    "# Chapter 3 BUILT-IN DATA STRUCTURES, FUNCTIONS, AND FILES "
   ]
  },
  {
   "cell_type": "markdown",
   "id": "ecf26668",
   "metadata": {},
   "source": [
    "## 3.1 BUILT-IN DATA STRUCTURES \n",
    "\n",
    "Built-in data structures in Python include lists, tuples, sets, and dictionaries. These data structures can be used to store and organize various types of data in an efficient and convenient manner.\n",
    "\n",
    "### Lists \n",
    "\n",
    "Python's built-in data structures include lists, which are used to store an ordered collection of items. Lists are similar to arrays in other programming languages, but they are more flexible and powerful.\n",
    "\n",
    "#### Creating a List\n",
    "\n",
    "A list is created by placing a comma-separated sequence of items inside square brackets. For example, the following code creates a list of integers:\n"
   ]
  },
  {
   "cell_type": "code",
   "execution_count": 1,
   "id": "e5e2a7de",
   "metadata": {},
   "outputs": [
    {
     "name": "stdout",
     "output_type": "stream",
     "text": [
      "[1, 2, 3, 4, 5]\n"
     ]
    }
   ],
   "source": [
    "numbers = [1, 2, 3, 4, 5]\n",
    "print(numbers)"
   ]
  },
  {
   "cell_type": "markdown",
   "id": "050874be",
   "metadata": {},
   "source": [
    "#### Accessing List Items\n",
    "\n",
    "You can access individual items in a list by their index. Python uses zero-based indexing, so the first item in the list has an index of 0, the second item has an index of 1, and so on.\n"
   ]
  },
  {
   "cell_type": "code",
   "execution_count": 2,
   "id": "3732c622",
   "metadata": {},
   "outputs": [
    {
     "name": "stdout",
     "output_type": "stream",
     "text": [
      "1\n",
      "2\n"
     ]
    }
   ],
   "source": [
    "print(numbers[0]) #prints 1\n",
    "print(numbers[1]) #prints 2"
   ]
  },
  {
   "cell_type": "markdown",
   "id": "fdb6fdb4",
   "metadata": {},
   "source": [
    "#### Modifying List Items\n",
    "\n",
    "You can modify the value of a list item by assigning a new value to its index."
   ]
  },
  {
   "cell_type": "code",
   "execution_count": 3,
   "id": "a525a9f5",
   "metadata": {},
   "outputs": [
    {
     "name": "stdout",
     "output_type": "stream",
     "text": [
      "[10, 2, 3, 4, 5]\n"
     ]
    }
   ],
   "source": [
    "numbers[0] = 10\n",
    "print(numbers)"
   ]
  },
  {
   "cell_type": "markdown",
   "id": "92b36595",
   "metadata": {},
   "source": [
    "#### List Operations\n",
    "\n",
    "Python provides several built-in methods for working with lists. Some of the most commonly used methods include:\n",
    "\n",
    "append() - adds an item to the end of the list\n",
    "\n",
    "insert() - adds an item at a specific position in the list\n",
    "\n",
    "remove() - removes an item from the list\n",
    "\n",
    "pop() - removes and returns the last item in the list\n",
    "\n",
    "clear() - removes all items from the list\n",
    "\n",
    "index() - returns the index of the first occurrence of a given item in the list\n",
    "\n",
    "count() - returns the number of occurrences of a given item in the list\n",
    "\n",
    "sort() - sorts the items in the list in ascending order\n",
    "\n",
    "reverse() - reverses the order of the items in the list\n"
   ]
  },
  {
   "cell_type": "code",
   "execution_count": 4,
   "id": "0a3e529c",
   "metadata": {},
   "outputs": [
    {
     "name": "stdout",
     "output_type": "stream",
     "text": [
      "[10, 2, 3, 4, 5, 6]\n"
     ]
    }
   ],
   "source": [
    "numbers.append(6)\n",
    "print(numbers)"
   ]
  },
  {
   "cell_type": "code",
   "execution_count": 5,
   "id": "bd51054b",
   "metadata": {},
   "outputs": [
    {
     "name": "stdout",
     "output_type": "stream",
     "text": [
      "[10, 20, 2, 3, 4, 5, 6]\n"
     ]
    }
   ],
   "source": [
    "numbers.insert(1, 20)\n",
    "print(numbers)"
   ]
  },
  {
   "cell_type": "code",
   "execution_count": 6,
   "id": "1dbe6926",
   "metadata": {},
   "outputs": [
    {
     "name": "stdout",
     "output_type": "stream",
     "text": [
      "[10, 20, 2, 4, 5, 6]\n"
     ]
    }
   ],
   "source": [
    "numbers.remove(3)\n",
    "print(numbers)"
   ]
  },
  {
   "cell_type": "markdown",
   "id": "c07cbe08",
   "metadata": {},
   "source": [
    "It is also possible to use list comprehension, which is a concise way to create and manipulate lists."
   ]
  },
  {
   "cell_type": "code",
   "execution_count": 7,
   "id": "d4d3020b",
   "metadata": {},
   "outputs": [
    {
     "name": "stdout",
     "output_type": "stream",
     "text": [
      "[1, 4, 9, 16, 25]\n"
     ]
    }
   ],
   "source": [
    "squares = [x**2 for x in range(1, 6)]\n",
    "print(squares)"
   ]
  },
  {
   "cell_type": "markdown",
   "id": "036224f3",
   "metadata": {},
   "source": [
    "### Tuples \n",
    "\n",
    "A tuple is a built-in data structure in Python that is similar to a list, but it is immutable, meaning that its elements cannot be modified once created. A tuple is created by placing a comma-separated sequence of elements inside parentheses. For example, a tuple containing the elements \"apple\", \"banana\", and \"cherry\" can be created as follows:\n"
   ]
  },
  {
   "cell_type": "code",
   "execution_count": 8,
   "id": "8b7c2f84",
   "metadata": {},
   "outputs": [],
   "source": [
    "fruits = (\"apple\", \"banana\", \"cherry\")"
   ]
  },
  {
   "cell_type": "markdown",
   "id": "a7516b4f",
   "metadata": {},
   "source": [
    "One of the main differences between lists and tuples is that while lists are mutable, tuples are immutable. This means that you can change the elements of a list but you can't change the elements of a tuple. For example, you can change an element in a list by using the indexing operator, but you can't do that with a tuple."
   ]
  },
  {
   "cell_type": "code",
   "execution_count": 9,
   "id": "a4e44600",
   "metadata": {},
   "outputs": [
    {
     "name": "stdout",
     "output_type": "stream",
     "text": [
      "['apple', 'mango', 'cherry']\n"
     ]
    },
    {
     "ename": "TypeError",
     "evalue": "'tuple' object does not support item assignment",
     "output_type": "error",
     "traceback": [
      "\u001b[1;31m---------------------------------------------------------------------------\u001b[0m",
      "\u001b[1;31mTypeError\u001b[0m                                 Traceback (most recent call last)",
      "Input \u001b[1;32mIn [9]\u001b[0m, in \u001b[0;36m<cell line: 7>\u001b[1;34m()\u001b[0m\n\u001b[0;32m      5\u001b[0m \u001b[38;5;66;03m#example of tuple\u001b[39;00m\n\u001b[0;32m      6\u001b[0m fruits \u001b[38;5;241m=\u001b[39m (\u001b[38;5;124m\"\u001b[39m\u001b[38;5;124mapple\u001b[39m\u001b[38;5;124m\"\u001b[39m, \u001b[38;5;124m\"\u001b[39m\u001b[38;5;124mbanana\u001b[39m\u001b[38;5;124m\"\u001b[39m, \u001b[38;5;124m\"\u001b[39m\u001b[38;5;124mcherry\u001b[39m\u001b[38;5;124m\"\u001b[39m)\n\u001b[1;32m----> 7\u001b[0m fruits[\u001b[38;5;241m1\u001b[39m] \u001b[38;5;241m=\u001b[39m \u001b[38;5;124m\"\u001b[39m\u001b[38;5;124mmango\u001b[39m\u001b[38;5;124m\"\u001b[39m\n",
      "\u001b[1;31mTypeError\u001b[0m: 'tuple' object does not support item assignment"
     ]
    }
   ],
   "source": [
    "#example of list \n",
    "fruits = [\"apple\", \"banana\", \"cherry\"]\n",
    "fruits[1] = \"mango\"\n",
    "print(fruits) # [\"apple\", \"mango\", \"cherry\"]\n",
    "#example of tuple\n",
    "fruits = (\"apple\", \"banana\", \"cherry\")\n",
    "fruits[1] = \"mango\" #TypeError: 'tuple' object does not support item assignment\n"
   ]
  },
  {
   "cell_type": "markdown",
   "id": "dec3c2f9",
   "metadata": {},
   "source": [
    "Tuples also have some built-in functions that are not available for lists. For example, the count() function returns the number of occurrences of a given element in a tuple, while the index() function returns the index of the first occurrence of a given element in a tuple."
   ]
  },
  {
   "cell_type": "code",
   "execution_count": 10,
   "id": "25c6f7e8",
   "metadata": {},
   "outputs": [
    {
     "name": "stdout",
     "output_type": "stream",
     "text": [
      "2\n",
      "2\n"
     ]
    }
   ],
   "source": [
    "#example\n",
    "fruits = (\"apple\", \"banana\", \"cherry\", \"banana\")\n",
    "print(fruits.count(\"banana\")) # 2\n",
    "print(fruits.index(\"cherry\")) # 2"
   ]
  },
  {
   "cell_type": "markdown",
   "id": "f8a99298",
   "metadata": {},
   "source": [
    "### Sets \n",
    "\n",
    "Sets in Python are a built-in data structure that allows you to store unique items in an unordered collection. Sets are often used to check for membership, remove duplicates from a list, or perform mathematical set operations such as union, intersection, and difference.\n",
    "\n",
    "Creating a set in Python is simple, you can use the set() constructor or use curly braces {} to create an empty set. To add items to a set, you can use the add() method or use the union operator |. Here is an example:\n"
   ]
  },
  {
   "cell_type": "code",
   "execution_count": 11,
   "id": "f19daa68",
   "metadata": {},
   "outputs": [
    {
     "name": "stdout",
     "output_type": "stream",
     "text": [
      "{1, 2, 3, 4, 5}\n"
     ]
    }
   ],
   "source": [
    "# Creating an empty set\n",
    "my_set = set()\n",
    "# Adding items to a set\n",
    "my_set.add(1)\n",
    "my_set.add(2)\n",
    "my_set.add(3)\n",
    "# Creating a set with items\n",
    "my_set = {1, 2, 3}\n",
    "# Union operation\n",
    "set1 = {1, 2, 3}\n",
    "set2 = {3, 4, 5}\n",
    "set3 = set1 | set2\n",
    "print(set3) # Output: {1, 2, 3, 4, 5}\n"
   ]
  },
  {
   "cell_type": "markdown",
   "id": "5b07c832",
   "metadata": {},
   "source": [
    "### Dictionaries \n",
    "\n",
    "Dictionaries in Python are an unordered collection of key-value pairs. They are also known as associative arrays or hash maps. Dictionaries are defined using curly braces {} and keys and values are separated by a colon (:).\n",
    "\n",
    "Dictionaries are extremely useful for data manipulation and organization. They allow for fast and efficient access to data using keys instead of indexing. For example, you can use a dictionary to store a list of employee names as keys and their corresponding employee ID as values. This allows you to quickly look up an employee's ID by their name.\n",
    "\n",
    "Creating a dictionary in python is as simple as:\n"
   ]
  },
  {
   "cell_type": "code",
   "execution_count": 12,
   "id": "5cf4bafb",
   "metadata": {},
   "outputs": [],
   "source": [
    "employee_dict = {'John': 1, 'Mary': 2, 'Bob': 3}"
   ]
  },
  {
   "cell_type": "markdown",
   "id": "dff9168f",
   "metadata": {},
   "source": [
    "You can access the elements of a dictionary by using the keys. For example, to access the employee ID of John, you can use:"
   ]
  },
  {
   "cell_type": "code",
   "execution_count": 13,
   "id": "f80962aa",
   "metadata": {},
   "outputs": [
    {
     "data": {
      "text/plain": [
       "1"
      ]
     },
     "execution_count": 13,
     "metadata": {},
     "output_type": "execute_result"
    }
   ],
   "source": [
    "employee_dict['John']"
   ]
  },
  {
   "cell_type": "markdown",
   "id": "c4f74cb9",
   "metadata": {},
   "source": [
    "You can add, update, and delete elements in a dictionary by using the keys. For example, to add a new employee to the dictionary:"
   ]
  },
  {
   "cell_type": "code",
   "execution_count": 14,
   "id": "e5447b69",
   "metadata": {},
   "outputs": [],
   "source": [
    "employee_dict['Jane'] = 4"
   ]
  },
  {
   "cell_type": "markdown",
   "id": "26a9344f",
   "metadata": {},
   "source": [
    "To update an employee's ID:"
   ]
  },
  {
   "cell_type": "code",
   "execution_count": 15,
   "id": "5a213fdf",
   "metadata": {},
   "outputs": [],
   "source": [
    "employee_dict['John'] = 5"
   ]
  },
  {
   "cell_type": "markdown",
   "id": "82137f74",
   "metadata": {},
   "source": [
    "And to delete an employee from the dictionary:"
   ]
  },
  {
   "cell_type": "code",
   "execution_count": 16,
   "id": "b5b5c555",
   "metadata": {},
   "outputs": [],
   "source": [
    "del employee_dict['Bob']"
   ]
  },
  {
   "cell_type": "markdown",
   "id": "0ad462c7",
   "metadata": {},
   "source": [
    "## 3.2 BUILT-IN FUNCTIONS \n",
    "\n",
    "Built-in functions are pre-defined functions in Python that are always available and can be used without importing any module. These functions are built into the Python language and can be used to perform a wide range of tasks, from simple mathematical calculations to more complex string and data manipulation. Some examples of built-in functions in Python include:\n"
   ]
  },
  {
   "cell_type": "markdown",
   "id": "b7448a44",
   "metadata": {},
   "source": [
    "### Mathematical functions \n",
    "\n",
    "Python, being a high-level programming language, provides a wide range of built-in mathematical functions that can be used for various mathematical operations. Some of the commonly used mathematical functions in Python are:\n",
    "\n",
    "abs() - returns the absolute value of a number\n",
    "\n",
    "max() - returns the largest element in an iterable\n",
    "\n",
    "min() - returns the smallest element in an iterable\n",
    "\n",
    "round() - rounds a number to the nearest integer or to a specified number of decimal places\n",
    "\n",
    "pow() - raises a number to a specified power\n",
    "\n",
    "sqrt() - returns the square root of a number\n",
    "\n",
    "sum() - returns the sum of all elements in an iterable\n",
    "\n",
    "math.floor() - rounds a number down to the nearest integer\n",
    "\n",
    "math.ceil() - rounds a number up to the nearest integer\n"
   ]
  },
  {
   "cell_type": "code",
   "execution_count": 18,
   "id": "9c95a8b7",
   "metadata": {},
   "outputs": [
    {
     "name": "stdout",
     "output_type": "stream",
     "text": [
      "5\n",
      "5\n",
      "1\n",
      "7.38905609893065\n",
      "0.6931471805599453\n",
      "0.3010299956639812\n",
      "0.0\n",
      "-1.0\n",
      "0.9999999999999999\n",
      "2.35\n",
      "2\n",
      "3\n",
      "8\n",
      "4.0\n"
     ]
    }
   ],
   "source": [
    "import math\n",
    "\n",
    "# Absolute value\n",
    "print(abs(-5)) # Output: 5\n",
    "\n",
    "# Maximum and minimum values\n",
    "print(max(2, 5, 1)) # Output: 5\n",
    "print(min(2, 5, 1)) # Output: 1\n",
    "\n",
    "# Exponential and logarithmic functions\n",
    "print(math.exp(2)) # Output: 7.3890560989306495\n",
    "print(math.log(2)) # Output: 0.6931471805599453\n",
    "print(math.log10(2)) # Output: 0.30102999566398114\n",
    "\n",
    "# Trigonometric functions\n",
    "print(math.sin(0)) # Output: 0.0\n",
    "print(math.cos(math.pi)) # Output: -1.0\n",
    "print(math.tan(math.pi/4)) # Output: 0.9999999999999999\n",
    "\n",
    "# Rounding and floor/ceiling functions\n",
    "print(round(2.345, 2)) # Output: 2.35\n",
    "print(math.floor(2.345)) # Output: 2\n",
    "print(math.ceil(2.345)) # Output: 3\n",
    "\n",
    "# Power and square root functions\n",
    "print(pow(2, 3)) # Output: 8\n",
    "print(math.sqrt(16)) # Output: 4.0\n"
   ]
  },
  {
   "cell_type": "markdown",
   "id": "ec3b7614",
   "metadata": {},
   "source": [
    "### String functions \n",
    "\n",
    "In Python, there are a number of built-in functions that can be used to manipulate strings. Some of the most commonly used string manipulation functions include:\n",
    "\n",
    "len(string): Returns the length of the input string.\n",
    "\n",
    "str.lower(): Returns a copy of the input string in lowercase.\n",
    "\n",
    "str.upper(): Returns a copy of the input string in uppercase.\n",
    "\n",
    "str.strip(): Returns a copy of the input string with leading and trailing white spaces removed.\n",
    "\n",
    "str.replace(old, new): Returns a copy of the input string with all occurrences of the old string replaced with the new string.\n",
    "\n",
    "str.split(separator): Returns a list of substrings obtained by splitting the input string at each occurrence of the separator.\n",
    "\n",
    "str.join(iterable): Returns a string obtained by concatenating the elements of the iterable using the input string as the separator.\n",
    "\n",
    "str.find(sub): Returns the index of the first occurrence of the substring in the input string, or -1 if the substring is not found.\n",
    "\n",
    "str.index(sub): Same as str.find(), but raises an error if the substring is not found.\n",
    "\n",
    "str.count(sub): Returns the number of occurrences of the substring in the input string.\n",
    "\n",
    "Here is an example program that covers several string manipulation functions in Python:\n"
   ]
  },
  {
   "cell_type": "code",
   "execution_count": 17,
   "id": "b3e9e445",
   "metadata": {},
   "outputs": [
    {
     "name": "stdout",
     "output_type": "stream",
     "text": [
      "Original String: Hello World!\n",
      "Uppercase String: HELLO WORLD!\n",
      "Lowercase String: hello world!\n",
      "Capitalized String: Hello world!\n",
      "Replaced String: Hello Python!\n",
      "Split String: ['Hello', 'World!']\n",
      "Joined String: Hello-World!\n",
      "Substring Found!\n"
     ]
    }
   ],
   "source": [
    "# String Manipulation Example\n",
    "\n",
    "# Define a string\n",
    "my_string = \"Hello World!\"\n",
    "\n",
    "# Print the original string\n",
    "print(\"Original String:\", my_string)\n",
    "\n",
    "# Convert string to uppercase\n",
    "my_string_upper = my_string.upper()\n",
    "print(\"Uppercase String:\", my_string_upper)\n",
    "\n",
    "# Convert string to lowercase\n",
    "my_string_lower = my_string.lower()\n",
    "print(\"Lowercase String:\", my_string_lower)\n",
    "\n",
    "# Capitalize the first letter of the string\n",
    "my_string_cap = my_string.capitalize()\n",
    "print(\"Capitalized String:\", my_string_cap)\n",
    "\n",
    "# Replace a substring in the string\n",
    "my_string_replace = my_string.replace(\"World\", \"Python\")\n",
    "print(\"Replaced String:\", my_string_replace)\n",
    "\n",
    "# Split the string into a list of substrings\n",
    "my_string_split = my_string.split(\" \")\n",
    "print(\"Split String:\", my_string_split)\n",
    "\n",
    "# Join a list of substrings into a string\n",
    "my_string_join = \"-\".join(my_string_split)\n",
    "print(\"Joined String:\", my_string_join)\n",
    "\n",
    "# Check if a substring is in the string\n",
    "if \"World\" in my_string:\n",
    "    print(\"Substring Found!\")\n",
    "else:\n",
    "    print(\"Substring Not Found.\")\n"
   ]
  },
  {
   "cell_type": "markdown",
   "id": "ab6aa430",
   "metadata": {},
   "source": [
    "### List functions\n",
    "\n",
    "List functions in python are a set of built-in functions that are used to perform various operations on lists. Some of the most commonly used list functions in python are:\n",
    "\n",
    "len(list): This function returns the number of elements in the given list.\n",
    "\n",
    "max(list): This function returns the maximum element in the given list.\n",
    "\n",
    "min(list): This function returns the minimum element in the given list.\n",
    "\n",
    "list.append(element): This function adds the given element to the end of the list.\n",
    "\n",
    "list.extend(iterable): This function adds all elements of the given iterable to the end of the list.\n",
    "\n",
    "list.insert(index, element): This function inserts the given element at the specified index in the list.\n",
    "\n",
    "list.remove(element): This function removes the first occurrence of the given element in the list.\n",
    "\n",
    "list.pop(index): This function removes and returns the element at the specified index in the list.\n",
    "\n",
    "list.index(element): This function returns the index of the first occurrence of the given element in the list.\n",
    "\n",
    "list.count(element): This function returns the number of occurrences of the given element in the list.\n",
    "\n",
    "list.sort(): This function sorts the elements of the list in ascending order.\n",
    "\n",
    "list.reverse(): This function reverses the order of the elements in the list.\n",
    "\n",
    "list.clear(): This function removes all elements from the list.\n"
   ]
  },
  {
   "cell_type": "code",
   "execution_count": 19,
   "id": "a51644bd",
   "metadata": {},
   "outputs": [
    {
     "name": "stdout",
     "output_type": "stream",
     "text": [
      "5\n",
      "5\n",
      "1\n",
      "[1, 2, 3, 4, 5, 6]\n",
      "[0, 1, 2, 3, 4, 5, 6]\n",
      "[0, 1, 3, 4, 5, 6]\n",
      "[1, 3, 4, 5, 6]\n",
      "1\n",
      "1\n",
      "[1, 3, 4, 5, 6]\n"
     ]
    }
   ],
   "source": [
    "numbers = [1, 2, 3, 4, 5]\n",
    "\n",
    "# Using len function\n",
    "print(len(numbers))\n",
    "# Output: 5\n",
    "\n",
    "# Using max function\n",
    "print(max(numbers))\n",
    "# Output: 5\n",
    "\n",
    "# Using min function\n",
    "print(min(numbers))\n",
    "# Output: 1\n",
    "\n",
    "# Using append function\n",
    "numbers.append(6)\n",
    "print(numbers)\n",
    "# Output: [1, 2, 3, 4, 5, 6]\n",
    "\n",
    "# Using insert function\n",
    "numbers.insert(0, 0)\n",
    "print(numbers)\n",
    "# Output: [0, 1, 2, 3, 4, 5, 6]\n",
    "\n",
    "# Using remove function\n",
    "numbers.remove(2)\n",
    "print(numbers)\n",
    "# Output: [0, 1, 3, 4, 5, 6]\n",
    "\n",
    "# Using pop function\n",
    "numbers.pop(0)\n",
    "print(numbers)\n",
    "# Output: [1, 3, 4, 5, 6]\n",
    "\n",
    "# Using index function\n",
    "print(numbers.index(3))\n",
    "# Output: 1\n",
    "\n",
    "# Using count function\n",
    "print(numbers.count(3))\n",
    "# Output: 1\n",
    "\n",
    "# Using sort function\n",
    "numbers.sort()\n",
    "print(numbers)\n",
    "# Output: [1, 3, 4, 5, 6]\n",
    "\n",
    "# Using reverse function\n",
    "numbers.reverse()\n"
   ]
  },
  {
   "cell_type": "markdown",
   "id": "bb8698d7",
   "metadata": {},
   "source": [
    "## 3.3 ANONYMOUS FUNCTIONS \n",
    "\n",
    "An anonymous function, also known as a lambda function, is a function that is defined without a name. In Python, anonymous functions are created using the lambda keyword. These functions are useful when you need to define a function for a short period of time, or when the function is only used once in the code.\n",
    "\n",
    "Syntax for creating a lambda function:\n",
    "\n",
    "lambda arguments: expression\n",
    "\n",
    "For example, the following lambda function takes two arguments and returns their sum:\n"
   ]
  },
  {
   "cell_type": "code",
   "execution_count": 20,
   "id": "cd83acd9",
   "metadata": {},
   "outputs": [
    {
     "name": "stdout",
     "output_type": "stream",
     "text": [
      "7\n"
     ]
    }
   ],
   "source": [
    "add = lambda x, y: x + y\n",
    "print(add(3,4)) # Output: 7"
   ]
  },
  {
   "cell_type": "markdown",
   "id": "602fb9b7",
   "metadata": {},
   "source": [
    "## 3.4 DEFINING A FUNCTION \n",
    "\n",
    "In Python, a function is a block of code that performs a specific task. Functions are defined using the \"def\" keyword, followed by the function name and a pair of parentheses. Inside the parentheses, we can specify the parameters that the function takes. These are also known as function arguments.\n",
    "\n",
    "When we call a function, we pass in values for these parameters, which are then used inside the function to perform its task. The function can then use these values to perform some operation, and can also return a value to the caller. The value that a function returns is known as the return value.\n",
    "\n",
    "For example, let's consider a simple function that takes two numbers as arguments and returns their sum:\n"
   ]
  },
  {
   "cell_type": "code",
   "execution_count": 21,
   "id": "d4753dd4",
   "metadata": {},
   "outputs": [
    {
     "name": "stdout",
     "output_type": "stream",
     "text": [
      "7\n"
     ]
    }
   ],
   "source": [
    "def add_numbers(x, y):\n",
    "    return x + y\n",
    "result = add_numbers(3, 4)\n",
    "print(result)  # Output: 7"
   ]
  },
  {
   "cell_type": "code",
   "execution_count": 22,
   "id": "65ad56b8",
   "metadata": {},
   "outputs": [
    {
     "name": "stdout",
     "output_type": "stream",
     "text": [
      "6\n",
      "Hello, World\n",
      "Hello, John\n",
      "6\n",
      "22\n",
      "Name: John\n",
      "Age: 30\n",
      "City: New York\n"
     ]
    }
   ],
   "source": [
    "# Define a function that takes two arguments and returns their product\n",
    "def multiply(a, b):\n",
    "    return a * b\n",
    "\n",
    "# Define a function with a default argument\n",
    "def greet(name=\"World\"):\n",
    "    print(\"Hello,\", name)\n",
    "\n",
    "# Define a function with variable number of arguments\n",
    "def add(*args):\n",
    "    sum = 0\n",
    "    for arg in args:\n",
    "        sum += arg\n",
    "    return sum\n",
    "\n",
    "# Define a function with keyword arguments\n",
    "def details(name, age, city):\n",
    "    print(\"Name:\", name)\n",
    "    print(\"Age:\", age)\n",
    "    print(\"City:\", city)\n",
    "\n",
    "# Call the functions with different arguments\n",
    "print(multiply(2, 3))      # Output: 6\n",
    "\n",
    "greet()                    # Output: Hello, World\n",
    "greet(\"John\")              # Output: Hello, John\n",
    "\n",
    "print(add(1, 2, 3))        # Output: 6\n",
    "print(add(4, 5, 6, 7))     # Output: 22\n",
    "\n",
    "details(name=\"John\", age=30, city=\"New York\")\n",
    "# Output:\n",
    "# Name: John\n",
    "# Age: 30\n",
    "# City: New York\n"
   ]
  },
  {
   "cell_type": "markdown",
   "id": "3369c592",
   "metadata": {},
   "source": [
    "## 3.5 NAMESPACE AND SCOPE OF A FUNCTION \n",
    "\n",
    "When writing code in any programming language, it's important to understand the concept of namespaces and scope. These terms are closely related and are used to determine the accessibility or visibility of variables, functions, and other resources in a program.\n",
    "\n",
    "A namespace is a container that holds a set of identifiers. Each identifier is associated with an object, such as a variable or a function. A namespace can be thought of as a dictionary, where the keys are the identifiers and the values are the associated objects. For example, in Python, the built-in functions such as print() and len() are stored in a built-in namespace. Similarly, the variables and functions that you create in your code are stored in a local namespace.\n",
    "\n",
    "Scope refers to the portion of the code in which an identifier can be accessed. In other words, it determines the visibility of an identifier in a program. There are two types of scope in Python: global and local.\n",
    "\n",
    "A global scope is the portion of the code where a variable or function can be accessed from anywhere. These variables and functions are defined in the global namespace and are available throughout the entire program.\n",
    "\n",
    "A local scope, on the other hand, is the portion of the code where a variable or function can only be accessed within a specific block or function. These variables and functions are defined in the local namespace and are only available within that specific block or function.\n"
   ]
  },
  {
   "cell_type": "code",
   "execution_count": 23,
   "id": "9b1b07d9",
   "metadata": {},
   "outputs": [
    {
     "name": "stdout",
     "output_type": "stream",
     "text": [
      "15\n"
     ]
    }
   ],
   "source": [
    "x = 10  # global variable\n",
    "\n",
    "def my_function(y):\n",
    "    z = x + y  # x is a global variable, y is a local variable\n",
    "    return z\n",
    "\n",
    "result = my_function(5)\n",
    "print(result)  # Output: 15\n"
   ]
  },
  {
   "cell_type": "markdown",
   "id": "dc57f799",
   "metadata": {},
   "source": [
    "The LEGB rule in Python defines the order in which the interpreter looks for variables when a name is referenced. LEGB stands for Local, Enclosing, Global, and Built-in. In this rule, the interpreter first looks for a variable locally, then in any enclosing functions or classes, then in the global namespace, and finally in the built-in namespace.\n",
    "\n",
    "Here's an example of the LEGB rule in action:"
   ]
  },
  {
   "cell_type": "code",
   "execution_count": 24,
   "id": "4e6ab924",
   "metadata": {},
   "outputs": [
    {
     "name": "stdout",
     "output_type": "stream",
     "text": [
      "local\n",
      "global\n"
     ]
    }
   ],
   "source": [
    "x = 'global'\n",
    "\n",
    "def outer():\n",
    "    x = 'enclosing'\n",
    "    \n",
    "    def inner():\n",
    "        x = 'local'\n",
    "        print(x)\n",
    "        \n",
    "    inner()\n",
    "    \n",
    "outer()\n",
    "print(x)\n"
   ]
  },
  {
   "cell_type": "markdown",
   "id": "e02b3075",
   "metadata": {},
   "source": [
    "## 3.6 HANDLING FILES IN PYTHON \n",
    "\n",
    "File handling in Python is a way to work with files and perform various operations such as reading, writing, and manipulating them. Python provides several built-in functions and methods for handling files, including:\n",
    "\n",
    "open(): This function is used to open a file and return a file object, which can be used to perform various file operations. The basic syntax for opening a file is: \n",
    "\"file_object = open(file_name, mode)\"\n",
    "The file_name parameter is the name of the file to be opened, and the mode parameter is used to specify the mode in which the file should be opened (e.g. 'r' for reading, 'w' for writing, 'a' for appending, etc.).\n",
    "\n",
    "read(): This method is used to read the contents of a file. The syntax for reading a file is: \n",
    "\"file_object.read(size)\"\n",
    "The size parameter is optional and specifies the number of characters to be read from the file. If size is not specified, the entire contents of the file are read.\n",
    "\n",
    "write(): This method is used to write content to a file. The syntax for writing to a file is: \n",
    "\"file_object.write(string)\" \n",
    "The string parameter is the content that is written to the file.\n",
    "\n",
    "close(): This method is used to close a file. The syntax for closing a file is: \n",
    "\"file_object.close()\"\n",
    "\n",
    "tell(): This method returns an integer that represents the current position of the file pointer.\n",
    "\n",
    "seek(): This method is used to change the current position of the file pointer. The syntax for using the seek method is: \n",
    "\"file_object.seek(offset, from_what)\" \n",
    "\n",
    "The offset parameter is the number of bytes to be moved, and the from_what parameter specifies the reference point for the offset (e.g. 0 for the beginning of the file, 1 for the current position, or 2 for the end of the file).\n",
    "Here's an example program for handling files in Python:\n"
   ]
  },
  {
   "cell_type": "code",
   "execution_count": 25,
   "id": "f902e282",
   "metadata": {},
   "outputs": [],
   "source": [
    "# Open a file for reading\n",
    "with open('example.txt', 'r') as file:\n",
    "    # Read the contents of the file\n",
    "    contents = file.read()\n",
    "    \n",
    "# Open a file for writing\n",
    "with open('output.txt', 'w') as file:\n",
    "    # Write some text to the file\n",
    "    file.write('This is some output\\n')\n",
    "    \n",
    "# Open a file for appending\n",
    "with open('output.txt', 'a') as file:\n",
    "    # Append some more text to the file\n",
    "    file.write('This is some additional output\\n')\n",
    "    \n",
    "# Open a file in binary mode\n",
    "with open('binary.dat', 'wb') as file:\n",
    "    # Write some binary data to the file\n",
    "    file.write(b'\\x01\\x02\\x03\\x04')\n",
    "    \n",
    "# Open a file in text mode with encoding\n",
    "with open('unicode.txt', 'w', encoding='utf-8') as file:\n",
    "    # Write some text with unicode characters to the file\n",
    "    file.write('This is some Unicode text: \\u2603\\n')\n"
   ]
  },
  {
   "cell_type": "markdown",
   "id": "3650febb",
   "metadata": {},
   "source": [
    "### 3.7 EXCEPTION HANDLING \n",
    "\n",
    "Exception handling in Python is a process of handling errors that may occur during the execution of a program. These errors are known as exceptions. The built-in module, \"exceptions\" contains several classes that can be used to handle exceptions in Python.\n"
   ]
  },
  {
   "cell_type": "code",
   "execution_count": 26,
   "id": "129070c9",
   "metadata": {},
   "outputs": [
    {
     "name": "stdout",
     "output_type": "stream",
     "text": [
      "Contents of file are not a valid integer.\n",
      "Program execution completed.\n"
     ]
    }
   ],
   "source": [
    "try:\n",
    "    # Attempt to open file for reading\n",
    "    file = open(\"example.txt\", \"r\")\n",
    "    # Attempt to read contents of file\n",
    "    contents = file.read()\n",
    "    # Close the file\n",
    "    file.close()\n",
    "    # Attempt to convert contents to integer\n",
    "    num = int(contents)\n",
    "    # Print the result\n",
    "    print(\"The number is:\", num)\n",
    "except FileNotFoundError:\n",
    "    print(\"File not found.\")\n",
    "except ValueError:\n",
    "    print(\"Contents of file are not a valid integer.\")\n",
    "except Exception as e:\n",
    "    print(\"An unexpected error occurred:\", e)\n",
    "finally:\n",
    "    print(\"Program execution completed.\")\n"
   ]
  },
  {
   "cell_type": "code",
   "execution_count": null,
   "id": "188ad383",
   "metadata": {},
   "outputs": [],
   "source": []
  },
  {
   "cell_type": "code",
   "execution_count": null,
   "id": "50eccfe2",
   "metadata": {},
   "outputs": [],
   "source": []
  },
  {
   "cell_type": "code",
   "execution_count": null,
   "id": "7632976c",
   "metadata": {},
   "outputs": [],
   "source": []
  },
  {
   "cell_type": "code",
   "execution_count": null,
   "id": "480bbc5d",
   "metadata": {},
   "outputs": [],
   "source": []
  },
  {
   "cell_type": "code",
   "execution_count": null,
   "id": "6aa6b59d",
   "metadata": {},
   "outputs": [],
   "source": []
  }
 ],
 "metadata": {
  "kernelspec": {
   "display_name": "Python 3 (ipykernel)",
   "language": "python",
   "name": "python3"
  },
  "language_info": {
   "codemirror_mode": {
    "name": "ipython",
    "version": 3
   },
   "file_extension": ".py",
   "mimetype": "text/x-python",
   "name": "python",
   "nbconvert_exporter": "python",
   "pygments_lexer": "ipython3",
   "version": "3.9.12"
  }
 },
 "nbformat": 4,
 "nbformat_minor": 5
}
